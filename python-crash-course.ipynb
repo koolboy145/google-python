{
  "nbformat": 4,
  "nbformat_minor": 0,
  "metadata": {
    "colab": {
      "provenance": [],
      "authorship_tag": "ABX9TyONBTt1Z/hSBQpZd12G4LMl",
      "include_colab_link": true
    },
    "kernelspec": {
      "name": "python3",
      "display_name": "Python 3"
    },
    "language_info": {
      "name": "python"
    }
  },
  "cells": [
    {
      "cell_type": "markdown",
      "metadata": {
        "id": "view-in-github",
        "colab_type": "text"
      },
      "source": [
        "<a href=\"https://colab.research.google.com/github/koolboy145/google-python/blob/main/python-crash-course.ipynb\" target=\"_parent\"><img src=\"https://colab.research.google.com/assets/colab-badge.svg\" alt=\"Open In Colab\"/></a>"
      ]
    },
    {
      "cell_type": "code",
      "execution_count": null,
      "metadata": {
        "id": "_nmWeXvjAZWx",
        "outputId": "fb586310-e2c1-4540-cf96-540d13890f1f",
        "colab": {
          "base_uri": "https://localhost:8080/"
        }
      },
      "outputs": [
        {
          "output_type": "stream",
          "name": "stdout",
          "text": [
            "Python 3.11.11\n"
          ]
        }
      ],
      "source": [
        "!python3 --version"
      ]
    },
    {
      "cell_type": "code",
      "source": [
        "print(type(3.8723984))"
      ],
      "metadata": {
        "id": "rTmxxzbb7Wiz",
        "outputId": "a7f5d8fd-6ee4-4b3e-9138-c2b36bea73a0",
        "colab": {
          "base_uri": "https://localhost:8080/"
        }
      },
      "execution_count": null,
      "outputs": [
        {
          "output_type": "stream",
          "name": "stdout",
          "text": [
            "<class 'float'>\n"
          ]
        }
      ]
    },
    {
      "cell_type": "code",
      "source": [
        "import typing\n",
        "a: str = \"24\"\n",
        "print(type(a))\n",
        "list_of_numbers: typing.List[int] = [1, 2, 3]\n",
        "# Define a variable of type tuple\n",
        "tuple_of_numbers: typing.Tuple[int, int, int] = (1, 2, 3)\n",
        "# Define a variable of type dict\n",
        "dictionary: typing.Dict[str, int] = {\"key1\": 1, \"key2\": 2}\n",
        "# Define a variable of type set\n",
        "set_of_numbers: typing.Set[int] = {1, 2, 3}"
      ],
      "metadata": {
        "id": "7sfMa-ZsFHMT",
        "outputId": "2b221694-c6a6-46f1-dc1a-2ed542ab8b07",
        "colab": {
          "base_uri": "https://localhost:8080/"
        }
      },
      "execution_count": null,
      "outputs": [
        {
          "output_type": "stream",
          "name": "stdout",
          "text": [
            "<class 'str'>\n"
          ]
        }
      ]
    },
    {
      "cell_type": "code",
      "source": [
        "def greeting(name):\n",
        "  print(\"Welcome, \" + name)"
      ],
      "metadata": {
        "id": "wCt5elhvFhg8"
      },
      "execution_count": 1,
      "outputs": []
    },
    {
      "cell_type": "code",
      "source": [
        "greeting(\"John\")"
      ],
      "metadata": {
        "colab": {
          "base_uri": "https://localhost:8080/"
        },
        "id": "QxnglLdWDqUf",
        "outputId": "55de95da-5800-4f55-c4f0-7ad3290136fb"
      },
      "execution_count": 2,
      "outputs": [
        {
          "output_type": "stream",
          "name": "stdout",
          "text": [
            "Welcome, John\n"
          ]
        }
      ]
    },
    {
      "cell_type": "code",
      "source": [
        "print(\"car\" == \"cat\")"
      ],
      "metadata": {
        "colab": {
          "base_uri": "https://localhost:8080/"
        },
        "id": "Y6b_80YhLGTE",
        "outputId": "0fbc2b0d-4d8e-47da-dc8f-038baf385e23"
      },
      "execution_count": 4,
      "outputs": [
        {
          "output_type": "stream",
          "name": "stdout",
          "text": [
            "False\n"
          ]
        }
      ]
    },
    {
      "cell_type": "code",
      "source": [
        "print(1 < \"1\")"
      ],
      "metadata": {
        "colab": {
          "base_uri": "https://localhost:8080/",
          "height": 141
        },
        "id": "kazJEtGYL-U1",
        "outputId": "9ba52c66-cf85-4ea7-cec3-13b99413131d"
      },
      "execution_count": 5,
      "outputs": [
        {
          "output_type": "error",
          "ename": "TypeError",
          "evalue": "'<' not supported between instances of 'int' and 'str'",
          "traceback": [
            "\u001b[0;31m---------------------------------------------------------------------------\u001b[0m",
            "\u001b[0;31mTypeError\u001b[0m                                 Traceback (most recent call last)",
            "\u001b[0;32m<ipython-input-5-b60d4374c865>\u001b[0m in \u001b[0;36m<cell line: 0>\u001b[0;34m()\u001b[0m\n\u001b[0;32m----> 1\u001b[0;31m \u001b[0mprint\u001b[0m\u001b[0;34m(\u001b[0m\u001b[0;36m1\u001b[0m \u001b[0;34m<\u001b[0m \u001b[0;34m\"1\"\u001b[0m\u001b[0;34m)\u001b[0m\u001b[0;34m\u001b[0m\u001b[0;34m\u001b[0m\u001b[0m\n\u001b[0m",
            "\u001b[0;31mTypeError\u001b[0m: '<' not supported between instances of 'int' and 'str'"
          ]
        }
      ]
    },
    {
      "cell_type": "code",
      "source": [
        "print(\"Yellow\" > \"Cyan\" and \"Brown\" > \"Magenta\")"
      ],
      "metadata": {
        "colab": {
          "base_uri": "https://localhost:8080/"
        },
        "id": "FHXaSWMFMA44",
        "outputId": "c53cbb9a-0b75-41ac-bb6c-9091273614ff"
      },
      "execution_count": 7,
      "outputs": [
        {
          "output_type": "stream",
          "name": "stdout",
          "text": [
            "False\n"
          ]
        }
      ]
    },
    {
      "cell_type": "markdown",
      "source": [],
      "metadata": {
        "id": "-j9LKFuIMAro"
      }
    },
    {
      "cell_type": "code",
      "source": [
        "def hint_username(username):\n",
        "  if len(username) < 3:\n",
        "    print(\"Please provide a valid username that is at least 3 characters long\")\n",
        "\n",
        "hint_username(\"rjj\")\n",
        "# hint_username(\"rj\")"
      ],
      "metadata": {
        "id": "hG7UlrjgNRD1"
      },
      "execution_count": 10,
      "outputs": []
    }
  ]
}