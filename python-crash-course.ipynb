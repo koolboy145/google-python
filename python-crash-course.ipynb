{
  "nbformat": 4,
  "nbformat_minor": 0,
  "metadata": {
    "colab": {
      "provenance": [],
      "authorship_tag": "ABX9TyPV6aaLBxFe7ar7CPozXgi9",
      "include_colab_link": true
    },
    "kernelspec": {
      "name": "python3",
      "display_name": "Python 3"
    },
    "language_info": {
      "name": "python"
    }
  },
  "cells": [
    {
      "cell_type": "markdown",
      "metadata": {
        "id": "view-in-github",
        "colab_type": "text"
      },
      "source": [
        "<a href=\"https://colab.research.google.com/github/koolboy145/google-python/blob/main/python-crash-course.ipynb\" target=\"_parent\"><img src=\"https://colab.research.google.com/assets/colab-badge.svg\" alt=\"Open In Colab\"/></a>"
      ]
    },
    {
      "cell_type": "code",
      "execution_count": null,
      "metadata": {
        "id": "_nmWeXvjAZWx",
        "outputId": "fb586310-e2c1-4540-cf96-540d13890f1f",
        "colab": {
          "base_uri": "https://localhost:8080/"
        }
      },
      "outputs": [
        {
          "output_type": "stream",
          "name": "stdout",
          "text": [
            "Python 3.11.11\n"
          ]
        }
      ],
      "source": [
        "!python3 --version"
      ]
    },
    {
      "cell_type": "code",
      "source": [
        "print(type(3.8723984))"
      ],
      "metadata": {
        "id": "rTmxxzbb7Wiz",
        "outputId": "a7f5d8fd-6ee4-4b3e-9138-c2b36bea73a0",
        "colab": {
          "base_uri": "https://localhost:8080/"
        }
      },
      "execution_count": 1,
      "outputs": [
        {
          "output_type": "stream",
          "name": "stdout",
          "text": [
            "<class 'float'>\n"
          ]
        }
      ]
    },
    {
      "cell_type": "code",
      "source": [
        "import typing\n",
        "a: str = \"24\"\n",
        "print(type(a))\n",
        "list_of_numbers: typing.List[int] = [1, 2, 3]\n",
        "# Define a variable of type tuple\n",
        "tuple_of_numbers: typing.Tuple[int, int, int] = (1, 2, 3)\n",
        "# Define a variable of type dict\n",
        "dictionary: typing.Dict[str, int] = {\"key1\": 1, \"key2\": 2}\n",
        "# Define a variable of type set\n",
        "set_of_numbers: typing.Set[int] = {1, 2, 3}"
      ],
      "metadata": {
        "id": "7sfMa-ZsFHMT",
        "outputId": "2b221694-c6a6-46f1-dc1a-2ed542ab8b07",
        "colab": {
          "base_uri": "https://localhost:8080/"
        }
      },
      "execution_count": 8,
      "outputs": [
        {
          "output_type": "stream",
          "name": "stdout",
          "text": [
            "<class 'str'>\n"
          ]
        }
      ]
    },
    {
      "cell_type": "code",
      "source": [],
      "metadata": {
        "id": "wCt5elhvFhg8"
      },
      "execution_count": null,
      "outputs": []
    }
  ]
}