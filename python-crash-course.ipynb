{
  "nbformat": 4,
  "nbformat_minor": 0,
  "metadata": {
    "colab": {
      "provenance": [],
      "authorship_tag": "ABX9TyOZ48eZ92CP0SXZm1hUetB5",
      "include_colab_link": true
    },
    "kernelspec": {
      "name": "python3",
      "display_name": "Python 3"
    },
    "language_info": {
      "name": "python"
    }
  },
  "cells": [
    {
      "cell_type": "markdown",
      "metadata": {
        "id": "view-in-github",
        "colab_type": "text"
      },
      "source": [
        "<a href=\"https://colab.research.google.com/github/koolboy145/google-python/blob/main/python-crash-course.ipynb\" target=\"_parent\"><img src=\"https://colab.research.google.com/assets/colab-badge.svg\" alt=\"Open In Colab\"/></a>"
      ]
    },
    {
      "cell_type": "code",
      "execution_count": null,
      "metadata": {
        "id": "_nmWeXvjAZWx",
        "outputId": "fb586310-e2c1-4540-cf96-540d13890f1f",
        "colab": {
          "base_uri": "https://localhost:8080/"
        }
      },
      "outputs": [
        {
          "output_type": "stream",
          "name": "stdout",
          "text": [
            "Python 3.11.11\n"
          ]
        }
      ],
      "source": [
        "!python3 --version"
      ]
    },
    {
      "cell_type": "code",
      "source": [
        "print(type(3.8723984))"
      ],
      "metadata": {
        "id": "rTmxxzbb7Wiz",
        "outputId": "a7f5d8fd-6ee4-4b3e-9138-c2b36bea73a0",
        "colab": {
          "base_uri": "https://localhost:8080/"
        }
      },
      "execution_count": null,
      "outputs": [
        {
          "output_type": "stream",
          "name": "stdout",
          "text": [
            "<class 'float'>\n"
          ]
        }
      ]
    },
    {
      "cell_type": "code",
      "source": [
        "import typing\n",
        "a: str = \"24\"\n",
        "print(type(a))\n",
        "list_of_numbers: typing.List[int] = [1, 2, 3]\n",
        "# Define a variable of type tuple\n",
        "tuple_of_numbers: typing.Tuple[int, int, int] = (1, 2, 3)\n",
        "# Define a variable of type dict\n",
        "dictionary: typing.Dict[str, int] = {\"key1\": 1, \"key2\": 2}\n",
        "# Define a variable of type set\n",
        "set_of_numbers: typing.Set[int] = {1, 2, 3}"
      ],
      "metadata": {
        "id": "7sfMa-ZsFHMT",
        "outputId": "2b221694-c6a6-46f1-dc1a-2ed542ab8b07",
        "colab": {
          "base_uri": "https://localhost:8080/"
        }
      },
      "execution_count": null,
      "outputs": [
        {
          "output_type": "stream",
          "name": "stdout",
          "text": [
            "<class 'str'>\n"
          ]
        }
      ]
    },
    {
      "cell_type": "code",
      "source": [
        "def greeting(name):\n",
        "  print(\"Welcome, \" + name)"
      ],
      "metadata": {
        "id": "wCt5elhvFhg8"
      },
      "execution_count": null,
      "outputs": []
    },
    {
      "cell_type": "code",
      "source": [
        "greeting(\"John\")"
      ],
      "metadata": {
        "colab": {
          "base_uri": "https://localhost:8080/"
        },
        "id": "QxnglLdWDqUf",
        "outputId": "55de95da-5800-4f55-c4f0-7ad3290136fb"
      },
      "execution_count": null,
      "outputs": [
        {
          "output_type": "stream",
          "name": "stdout",
          "text": [
            "Welcome, John\n"
          ]
        }
      ]
    },
    {
      "cell_type": "code",
      "source": [
        "print(\"car\" == \"cat\")"
      ],
      "metadata": {
        "colab": {
          "base_uri": "https://localhost:8080/"
        },
        "id": "Y6b_80YhLGTE",
        "outputId": "0fbc2b0d-4d8e-47da-dc8f-038baf385e23"
      },
      "execution_count": null,
      "outputs": [
        {
          "output_type": "stream",
          "name": "stdout",
          "text": [
            "False\n"
          ]
        }
      ]
    },
    {
      "cell_type": "code",
      "source": [
        "print(1 < \"1\")"
      ],
      "metadata": {
        "colab": {
          "base_uri": "https://localhost:8080/",
          "height": 141
        },
        "id": "kazJEtGYL-U1",
        "outputId": "9ba52c66-cf85-4ea7-cec3-13b99413131d"
      },
      "execution_count": null,
      "outputs": [
        {
          "output_type": "error",
          "ename": "TypeError",
          "evalue": "'<' not supported between instances of 'int' and 'str'",
          "traceback": [
            "\u001b[0;31m---------------------------------------------------------------------------\u001b[0m",
            "\u001b[0;31mTypeError\u001b[0m                                 Traceback (most recent call last)",
            "\u001b[0;32m<ipython-input-5-b60d4374c865>\u001b[0m in \u001b[0;36m<cell line: 0>\u001b[0;34m()\u001b[0m\n\u001b[0;32m----> 1\u001b[0;31m \u001b[0mprint\u001b[0m\u001b[0;34m(\u001b[0m\u001b[0;36m1\u001b[0m \u001b[0;34m<\u001b[0m \u001b[0;34m\"1\"\u001b[0m\u001b[0;34m)\u001b[0m\u001b[0;34m\u001b[0m\u001b[0;34m\u001b[0m\u001b[0m\n\u001b[0m",
            "\u001b[0;31mTypeError\u001b[0m: '<' not supported between instances of 'int' and 'str'"
          ]
        }
      ]
    },
    {
      "cell_type": "code",
      "source": [
        "print(\"Yellow\" > \"Cyan\" and \"Brown\" > \"Magenta\")"
      ],
      "metadata": {
        "colab": {
          "base_uri": "https://localhost:8080/"
        },
        "id": "FHXaSWMFMA44",
        "outputId": "c53cbb9a-0b75-41ac-bb6c-9091273614ff"
      },
      "execution_count": null,
      "outputs": [
        {
          "output_type": "stream",
          "name": "stdout",
          "text": [
            "False\n"
          ]
        }
      ]
    },
    {
      "cell_type": "markdown",
      "source": [],
      "metadata": {
        "id": "-j9LKFuIMAro"
      }
    },
    {
      "cell_type": "code",
      "source": [
        "def hint_username(username):\n",
        "  if len(username) < 3:\n",
        "    print(\"Please provide a valid username that is at least 3 characters long\")\n",
        "  elif len(username) > 15:\n",
        "    print(\"Please provide a valid username that is less than 15 characters long\")\n",
        "  else:\n",
        "    print(\"Valid username\")\n",
        "\n",
        "hint_username(\"rjj\")\n",
        "# hint_username(\"rj\")\n",
        "hint_username(\"sdfnjslknwoiejfwksdmfwpiejwpiefnwpkdmfwpiejf\")"
      ],
      "metadata": {
        "id": "hG7UlrjgNRD1",
        "outputId": "37d8ee39-f521-4c57-9e05-098de6f07733",
        "colab": {
          "base_uri": "https://localhost:8080/"
        }
      },
      "execution_count": 5,
      "outputs": [
        {
          "output_type": "stream",
          "name": "stdout",
          "text": [
            "Valid username\n",
            "Please provide a valid username that is less than 15 characters long\n"
          ]
        }
      ]
    },
    {
      "cell_type": "code",
      "source": [
        "def is_even(number):\n",
        "  if number % 2 == 0:\n",
        "    return True\n",
        "  return False\n",
        "\n",
        "print(is_even(2));\n",
        "print(is_even(3));"
      ],
      "metadata": {
        "id": "_e_4koyGWozW",
        "outputId": "5ff7304c-12c7-4687-ed18-7d7eb2e29eb0",
        "colab": {
          "base_uri": "https://localhost:8080/"
        }
      },
      "execution_count": 3,
      "outputs": [
        {
          "output_type": "stream",
          "name": "stdout",
          "text": [
            "True\n",
            "False\n"
          ]
        }
      ]
    },
    {
      "cell_type": "code",
      "source": [
        "def calculate_storage(filesize):\n",
        "    block_size = 4096\n",
        "    # Use floor division to calculate how many blocks are fully occupied\n",
        "    full_blocks = filesize //block_size\n",
        "    print(full_blocks)\n",
        "    # Use the modulo operator to check whether there's any remainder\n",
        "    partial_block_remainder = filesize % block_size\n",
        "    print(partial_block_remainder)\n",
        "    # Depending on whether there's a remainder or not, return\n",
        "    # the total number of bytes required to allocate enough blocks\n",
        "    # to store your data.\n",
        "    if partial_block_remainder > 0:\n",
        "        print((full_blocks + 1) * block_size)\n",
        "        return (full_blocks + 1) * block_size\n",
        "    print(full_blocks * block_size)\n",
        "    return full_blocks * block_size\n",
        "\n",
        "# print(calculate_storage(1))    # Should be 4096\n",
        "# print(calculate_storage(4096)) # Should be 4096\n",
        "# print(calculate_storage(4097)) # Should be 8192\n",
        "print(calculate_storage(6000)) # Should be 8192"
      ],
      "metadata": {
        "id": "W-d143MTb1_k",
        "outputId": "5bfe0b74-c3dd-4f40-d29f-9b730be6b055",
        "colab": {
          "base_uri": "https://localhost:8080/"
        }
      },
      "execution_count": 19,
      "outputs": [
        {
          "output_type": "stream",
          "name": "stdout",
          "text": [
            "1\n",
            "1904\n",
            "8192\n",
            "8192\n"
          ]
        }
      ]
    }
  ]
}